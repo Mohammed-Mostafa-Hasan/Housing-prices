{
 "cells": [
  {
   "attachments": {},
   "cell_type": "markdown",
   "metadata": {},
   "source": [
    "### **Load Important libraries**"
   ]
  },
  {
   "cell_type": "code",
   "execution_count": 94,
   "metadata": {},
   "outputs": [],
   "source": [
    "import os\n",
    "import tarfile\n",
    "import urllib\n",
    "\n",
    "import numpy as np \n",
    "import pandas as pd\n",
    "import matplotlib.pyplot as plt\n",
    "import seaborn as sns\n",
    "\n",
    "from sklearn.base import BaseEstimator,MetaEstimatorMixin\n",
    "from sklearn.preprocessing import StandardScaler,OneHotEncoder\n",
    "from sklearn.pipeline import Pipeline\n",
    "from sklearn.compose import ColumnTransformer\n",
    "\n",
    "from sklearn.model_selection import cross_val_score\n",
    "from sklearn.model_selection import train_test_split\n",
    "from sklearn.metrics import mean_squared_error\n",
    "from sklearn.linear_model import LinearRegression\n",
    "from sklearn.ensemble import RandomForestRegressor\n",
    "from sklearn.tree import DecisionTreeRegressor\n",
    "from sklearn.model_selection import GridSearchCV\n"
   ]
  },
  {
   "attachments": {},
   "cell_type": "markdown",
   "metadata": {},
   "source": [
    "### **Read Data**"
   ]
  },
  {
   "cell_type": "code",
   "execution_count": 95,
   "metadata": {},
   "outputs": [],
   "source": [
    "#first find the rootbase of data url\n",
    "DOWNLOAD_ROOT = \"https://raw.githubusercontent.com/ageron/handson-ml2/master/\"\n",
    "#Create two folder and join them\n",
    "HOUSIN_PATH = os.path.join(\"datasets\",\"housing\")\n",
    "HOUSING_URL = DOWNLOAD_ROOT + \"datasets/housing/housing.tgz\""
   ]
  },
  {
   "cell_type": "code",
   "execution_count": 96,
   "metadata": {},
   "outputs": [],
   "source": [
    "def fetch_data(housing_url=HOUSING_URL,housing_path=HOUSIN_PATH):\n",
    "    os.makedirs(HOUSIN_PATH)\n",
    "    tgz_path = os.path.join(housing_url,\"housing.tgz\")\n",
    "    urllib.request.urlretrieve(housing_url,tgz_path)\n",
    "    housing_tgz = tarfile.open(tgz_path)\n",
    "    housing_tgz.extractall(path=tgz_path)\n",
    "    housing_tgz.close()\n"
   ]
  },
  {
   "cell_type": "code",
   "execution_count": 97,
   "metadata": {},
   "outputs": [],
   "source": [
    "def load_data (housing_url = HOUSIN_PATH):\n",
    "    housing_csv = os.path.join(HOUSIN_PATH,\"housing.csv\")\n",
    "    return pd.read_csv(housing_csv)"
   ]
  },
  {
   "cell_type": "code",
   "execution_count": 98,
   "metadata": {},
   "outputs": [],
   "source": [
    "df = load_data()"
   ]
  },
  {
   "cell_type": "code",
   "execution_count": 99,
   "metadata": {},
   "outputs": [
    {
     "data": {
      "text/html": [
       "<div>\n",
       "<style scoped>\n",
       "    .dataframe tbody tr th:only-of-type {\n",
       "        vertical-align: middle;\n",
       "    }\n",
       "\n",
       "    .dataframe tbody tr th {\n",
       "        vertical-align: top;\n",
       "    }\n",
       "\n",
       "    .dataframe thead th {\n",
       "        text-align: right;\n",
       "    }\n",
       "</style>\n",
       "<table border=\"1\" class=\"dataframe\">\n",
       "  <thead>\n",
       "    <tr style=\"text-align: right;\">\n",
       "      <th></th>\n",
       "      <th>Neighborhood</th>\n",
       "      <th>Building.Classification</th>\n",
       "      <th>Total.Units</th>\n",
       "      <th>Year.Built</th>\n",
       "      <th>Gross.SqFt</th>\n",
       "      <th>Estimated.Gross.Income</th>\n",
       "      <th>Gross.Income.per.SqFt</th>\n",
       "      <th>Estimated.Expense</th>\n",
       "      <th>Expense.per.SqFt</th>\n",
       "      <th>Net.Operating.Income</th>\n",
       "      <th>Full.Market.Value</th>\n",
       "      <th>Market.Value.per.SqFt</th>\n",
       "      <th>Boro</th>\n",
       "    </tr>\n",
       "  </thead>\n",
       "  <tbody>\n",
       "    <tr>\n",
       "      <th>0</th>\n",
       "      <td>FINANCIAL</td>\n",
       "      <td>R9-CONDOMINIUM</td>\n",
       "      <td>42</td>\n",
       "      <td>1920.0</td>\n",
       "      <td>36500</td>\n",
       "      <td>1332615</td>\n",
       "      <td>36.51</td>\n",
       "      <td>342005</td>\n",
       "      <td>9.37</td>\n",
       "      <td>990610</td>\n",
       "      <td>7300000</td>\n",
       "      <td>200.00</td>\n",
       "      <td>Manhattan</td>\n",
       "    </tr>\n",
       "    <tr>\n",
       "      <th>1</th>\n",
       "      <td>FINANCIAL</td>\n",
       "      <td>R4-CONDOMINIUM</td>\n",
       "      <td>78</td>\n",
       "      <td>1985.0</td>\n",
       "      <td>126420</td>\n",
       "      <td>6633257</td>\n",
       "      <td>52.47</td>\n",
       "      <td>1762295</td>\n",
       "      <td>13.94</td>\n",
       "      <td>4870962</td>\n",
       "      <td>30690000</td>\n",
       "      <td>242.76</td>\n",
       "      <td>Manhattan</td>\n",
       "    </tr>\n",
       "    <tr>\n",
       "      <th>2</th>\n",
       "      <td>FINANCIAL</td>\n",
       "      <td>RR-CONDOMINIUM</td>\n",
       "      <td>500</td>\n",
       "      <td>NaN</td>\n",
       "      <td>554174</td>\n",
       "      <td>17310000</td>\n",
       "      <td>31.24</td>\n",
       "      <td>3543000</td>\n",
       "      <td>6.39</td>\n",
       "      <td>13767000</td>\n",
       "      <td>90970000</td>\n",
       "      <td>164.15</td>\n",
       "      <td>Manhattan</td>\n",
       "    </tr>\n",
       "    <tr>\n",
       "      <th>3</th>\n",
       "      <td>FINANCIAL</td>\n",
       "      <td>R4-CONDOMINIUM</td>\n",
       "      <td>282</td>\n",
       "      <td>1930.0</td>\n",
       "      <td>249076</td>\n",
       "      <td>11776313</td>\n",
       "      <td>47.28</td>\n",
       "      <td>2784670</td>\n",
       "      <td>11.18</td>\n",
       "      <td>8991643</td>\n",
       "      <td>67556006</td>\n",
       "      <td>271.23</td>\n",
       "      <td>Manhattan</td>\n",
       "    </tr>\n",
       "    <tr>\n",
       "      <th>4</th>\n",
       "      <td>TRIBECA</td>\n",
       "      <td>R4-CONDOMINIUM</td>\n",
       "      <td>239</td>\n",
       "      <td>1985.0</td>\n",
       "      <td>219495</td>\n",
       "      <td>10004582</td>\n",
       "      <td>45.58</td>\n",
       "      <td>2783197</td>\n",
       "      <td>12.68</td>\n",
       "      <td>7221385</td>\n",
       "      <td>54320996</td>\n",
       "      <td>247.48</td>\n",
       "      <td>Manhattan</td>\n",
       "    </tr>\n",
       "  </tbody>\n",
       "</table>\n",
       "</div>"
      ],
      "text/plain": [
       "  Neighborhood Building.Classification  Total.Units  Year.Built  Gross.SqFt  \\\n",
       "0    FINANCIAL          R9-CONDOMINIUM           42      1920.0       36500   \n",
       "1    FINANCIAL          R4-CONDOMINIUM           78      1985.0      126420   \n",
       "2    FINANCIAL          RR-CONDOMINIUM          500         NaN      554174   \n",
       "3    FINANCIAL          R4-CONDOMINIUM          282      1930.0      249076   \n",
       "4      TRIBECA          R4-CONDOMINIUM          239      1985.0      219495   \n",
       "\n",
       "   Estimated.Gross.Income  Gross.Income.per.SqFt  Estimated.Expense  \\\n",
       "0                 1332615                  36.51             342005   \n",
       "1                 6633257                  52.47            1762295   \n",
       "2                17310000                  31.24            3543000   \n",
       "3                11776313                  47.28            2784670   \n",
       "4                10004582                  45.58            2783197   \n",
       "\n",
       "   Expense.per.SqFt  Net.Operating.Income  Full.Market.Value  \\\n",
       "0              9.37                990610            7300000   \n",
       "1             13.94               4870962           30690000   \n",
       "2              6.39              13767000           90970000   \n",
       "3             11.18               8991643           67556006   \n",
       "4             12.68               7221385           54320996   \n",
       "\n",
       "   Market.Value.per.SqFt       Boro  \n",
       "0                 200.00  Manhattan  \n",
       "1                 242.76  Manhattan  \n",
       "2                 164.15  Manhattan  \n",
       "3                 271.23  Manhattan  \n",
       "4                 247.48  Manhattan  "
      ]
     },
     "execution_count": 99,
     "metadata": {},
     "output_type": "execute_result"
    }
   ],
   "source": [
    "df.head()"
   ]
  },
  {
   "cell_type": "code",
   "execution_count": 100,
   "metadata": {},
   "outputs": [],
   "source": [
    "features = df.drop('Market.Value.per.SqFt',axis=1)\n",
    "housing_labels = df['Full.Market.Value']"
   ]
  },
  {
   "cell_type": "code",
   "execution_count": 101,
   "metadata": {},
   "outputs": [
    {
     "data": {
      "text/plain": [
       "12977807.587966489"
      ]
     },
     "execution_count": 101,
     "metadata": {},
     "output_type": "execute_result"
    }
   ],
   "source": [
    "df['Full.Market.Value'].mean()"
   ]
  },
  {
   "attachments": {},
   "cell_type": "markdown",
   "metadata": {},
   "source": [
    "### **Data Exploration**"
   ]
  },
  {
   "cell_type": "code",
   "execution_count": 102,
   "metadata": {},
   "outputs": [],
   "source": [
    "#find out categorical data and numerical  columns\n",
    "numerical_cols = features.select_dtypes(include=[\"int64\",\"float64\"]).columns\n",
    "categorical_cols = features.select_dtypes(include=[\"object\",\"bool\"]).columns"
   ]
  },
  {
   "cell_type": "code",
   "execution_count": 103,
   "metadata": {},
   "outputs": [
    {
     "name": "stdout",
     "output_type": "stream",
     "text": [
      "Index(['Total.Units', 'Year.Built', 'Gross.SqFt', 'Estimated.Gross.Income',\n",
      "       'Gross.Income.per.SqFt', 'Estimated.Expense', 'Expense.per.SqFt',\n",
      "       'Net.Operating.Income', 'Full.Market.Value'],\n",
      "      dtype='object')\n",
      "-------------------------------------categorical_cols--------------\n",
      "\n",
      "Index(['Neighborhood', 'Building.Classification', 'Boro'], dtype='object')\n"
     ]
    }
   ],
   "source": [
    "print(numerical_cols)\n",
    "print(\"-------------------------------------categorical_cols--------------\\n\")\n",
    "print(categorical_cols)"
   ]
  },
  {
   "cell_type": "code",
   "execution_count": 104,
   "metadata": {},
   "outputs": [
    {
     "data": {
      "image/png": "[encoded data removed]",
      "text/plain": [
       "<Figure size 1080x720 with 9 Axes>"
      ]
     },
     "metadata": {
      "needs_background": "light"
     },
     "output_type": "display_data"
    }
   ],
   "source": [
    "features.hist(bins=50, figsize=(15,10))\n",
    "plt.show()"
   ]
  },
  {
   "cell_type": "code",
   "execution_count": 105,
   "metadata": {},
   "outputs": [
    {
     "data": {
      "text/plain": [
       "Neighborhood                0\n",
       "Building.Classification     0\n",
       "Total.Units                 0\n",
       "Year.Built                 96\n",
       "Gross.SqFt                  0\n",
       "Estimated.Gross.Income      0\n",
       "Gross.Income.per.SqFt       0\n",
       "Estimated.Expense           0\n",
       "Expense.per.SqFt            0\n",
       "Net.Operating.Income        0\n",
       "Full.Market.Value           0\n",
       "Boro                        0\n",
       "dtype: int64"
      ]
     },
     "execution_count": 105,
     "metadata": {},
     "output_type": "execute_result"
    }
   ],
   "source": [
    "#check missing data\n",
    "features.isnull().sum()"
   ]
  },
  {
   "attachments": {},
   "cell_type": "markdown",
   "metadata": {},
   "source": [
    "## **Data Cleaning**"
   ]
  },
  {
   "cell_type": "code",
   "execution_count": 106,
   "metadata": {},
   "outputs": [],
   "source": [
    "# Replace missing data with zero for year build\n",
    "features['Year.Built'].fillna(0,inplace = True)"
   ]
  },
  {
   "cell_type": "code",
   "execution_count": 107,
   "metadata": {},
   "outputs": [
    {
     "data": {
      "text/plain": [
       "Neighborhood               0\n",
       "Building.Classification    0\n",
       "Total.Units                0\n",
       "Year.Built                 0\n",
       "Gross.SqFt                 0\n",
       "Estimated.Gross.Income     0\n",
       "Gross.Income.per.SqFt      0\n",
       "Estimated.Expense          0\n",
       "Expense.per.SqFt           0\n",
       "Net.Operating.Income       0\n",
       "Full.Market.Value          0\n",
       "Boro                       0\n",
       "dtype: int64"
      ]
     },
     "execution_count": 107,
     "metadata": {},
     "output_type": "execute_result"
    }
   ],
   "source": [
    "features.isnull().sum()"
   ]
  },
  {
   "cell_type": "code",
   "execution_count": 108,
   "metadata": {},
   "outputs": [
    {
     "data": {
      "text/html": [
       "<div>\n",
       "<style scoped>\n",
       "    .dataframe tbody tr th:only-of-type {\n",
       "        vertical-align: middle;\n",
       "    }\n",
       "\n",
       "    .dataframe tbody tr th {\n",
       "        vertical-align: top;\n",
       "    }\n",
       "\n",
       "    .dataframe thead th {\n",
       "        text-align: right;\n",
       "    }\n",
       "</style>\n",
       "<table border=\"1\" class=\"dataframe\">\n",
       "  <thead>\n",
       "    <tr style=\"text-align: right;\">\n",
       "      <th></th>\n",
       "      <th>Neighborhood</th>\n",
       "      <th>Building.Classification</th>\n",
       "      <th>Total.Units</th>\n",
       "      <th>Year.Built</th>\n",
       "      <th>Gross.SqFt</th>\n",
       "      <th>Estimated.Gross.Income</th>\n",
       "      <th>Gross.Income.per.SqFt</th>\n",
       "      <th>Estimated.Expense</th>\n",
       "      <th>Expense.per.SqFt</th>\n",
       "      <th>Net.Operating.Income</th>\n",
       "      <th>Full.Market.Value</th>\n",
       "      <th>Boro</th>\n",
       "    </tr>\n",
       "  </thead>\n",
       "  <tbody>\n",
       "    <tr>\n",
       "      <th>0</th>\n",
       "      <td>FINANCIAL</td>\n",
       "      <td>R9-CONDOMINIUM</td>\n",
       "      <td>42</td>\n",
       "      <td>1920.0</td>\n",
       "      <td>36500</td>\n",
       "      <td>1332615</td>\n",
       "      <td>36.51</td>\n",
       "      <td>342005</td>\n",
       "      <td>9.37</td>\n",
       "      <td>990610</td>\n",
       "      <td>7300000</td>\n",
       "      <td>Manhattan</td>\n",
       "    </tr>\n",
       "    <tr>\n",
       "      <th>1</th>\n",
       "      <td>FINANCIAL</td>\n",
       "      <td>R4-CONDOMINIUM</td>\n",
       "      <td>78</td>\n",
       "      <td>1985.0</td>\n",
       "      <td>126420</td>\n",
       "      <td>6633257</td>\n",
       "      <td>52.47</td>\n",
       "      <td>1762295</td>\n",
       "      <td>13.94</td>\n",
       "      <td>4870962</td>\n",
       "      <td>30690000</td>\n",
       "      <td>Manhattan</td>\n",
       "    </tr>\n",
       "    <tr>\n",
       "      <th>2</th>\n",
       "      <td>FINANCIAL</td>\n",
       "      <td>RR-CONDOMINIUM</td>\n",
       "      <td>500</td>\n",
       "      <td>0.0</td>\n",
       "      <td>554174</td>\n",
       "      <td>17310000</td>\n",
       "      <td>31.24</td>\n",
       "      <td>3543000</td>\n",
       "      <td>6.39</td>\n",
       "      <td>13767000</td>\n",
       "      <td>90970000</td>\n",
       "      <td>Manhattan</td>\n",
       "    </tr>\n",
       "    <tr>\n",
       "      <th>3</th>\n",
       "      <td>FINANCIAL</td>\n",
       "      <td>R4-CONDOMINIUM</td>\n",
       "      <td>282</td>\n",
       "      <td>1930.0</td>\n",
       "      <td>249076</td>\n",
       "      <td>11776313</td>\n",
       "      <td>47.28</td>\n",
       "      <td>2784670</td>\n",
       "      <td>11.18</td>\n",
       "      <td>8991643</td>\n",
       "      <td>67556006</td>\n",
       "      <td>Manhattan</td>\n",
       "    </tr>\n",
       "    <tr>\n",
       "      <th>4</th>\n",
       "      <td>TRIBECA</td>\n",
       "      <td>R4-CONDOMINIUM</td>\n",
       "      <td>239</td>\n",
       "      <td>1985.0</td>\n",
       "      <td>219495</td>\n",
       "      <td>10004582</td>\n",
       "      <td>45.58</td>\n",
       "      <td>2783197</td>\n",
       "      <td>12.68</td>\n",
       "      <td>7221385</td>\n",
       "      <td>54320996</td>\n",
       "      <td>Manhattan</td>\n",
       "    </tr>\n",
       "  </tbody>\n",
       "</table>\n",
       "</div>"
      ],
      "text/plain": [
       "  Neighborhood Building.Classification  Total.Units  Year.Built  Gross.SqFt  \\\n",
       "0    FINANCIAL          R9-CONDOMINIUM           42      1920.0       36500   \n",
       "1    FINANCIAL          R4-CONDOMINIUM           78      1985.0      126420   \n",
       "2    FINANCIAL          RR-CONDOMINIUM          500         0.0      554174   \n",
       "3    FINANCIAL          R4-CONDOMINIUM          282      1930.0      249076   \n",
       "4      TRIBECA          R4-CONDOMINIUM          239      1985.0      219495   \n",
       "\n",
       "   Estimated.Gross.Income  Gross.Income.per.SqFt  Estimated.Expense  \\\n",
       "0                 1332615                  36.51             342005   \n",
       "1                 6633257                  52.47            1762295   \n",
       "2                17310000                  31.24            3543000   \n",
       "3                11776313                  47.28            2784670   \n",
       "4                10004582                  45.58            2783197   \n",
       "\n",
       "   Expense.per.SqFt  Net.Operating.Income  Full.Market.Value       Boro  \n",
       "0              9.37                990610            7300000  Manhattan  \n",
       "1             13.94               4870962           30690000  Manhattan  \n",
       "2              6.39              13767000           90970000  Manhattan  \n",
       "3             11.18               8991643           67556006  Manhattan  \n",
       "4             12.68               7221385           54320996  Manhattan  "
      ]
     },
     "execution_count": 108,
     "metadata": {},
     "output_type": "execute_result"
    }
   ],
   "source": [
    "features.head()"
   ]
  },
  {
   "cell_type": "code",
   "execution_count": 109,
   "metadata": {},
   "outputs": [
    {
     "data": {
      "text/html": [
       "<div>\n",
       "<style scoped>\n",
       "    .dataframe tbody tr th:only-of-type {\n",
       "        vertical-align: middle;\n",
       "    }\n",
       "\n",
       "    .dataframe tbody tr th {\n",
       "        vertical-align: top;\n",
       "    }\n",
       "\n",
       "    .dataframe thead th {\n",
       "        text-align: right;\n",
       "    }\n",
       "</style>\n",
       "<table border=\"1\" class=\"dataframe\">\n",
       "  <thead>\n",
       "    <tr style=\"text-align: right;\">\n",
       "      <th></th>\n",
       "      <th>Total.Units</th>\n",
       "      <th>Year.Built</th>\n",
       "      <th>Gross.SqFt</th>\n",
       "      <th>Estimated.Gross.Income</th>\n",
       "      <th>Gross.Income.per.SqFt</th>\n",
       "      <th>Estimated.Expense</th>\n",
       "      <th>Expense.per.SqFt</th>\n",
       "      <th>Net.Operating.Income</th>\n",
       "      <th>Full.Market.Value</th>\n",
       "    </tr>\n",
       "  </thead>\n",
       "  <tbody>\n",
       "    <tr>\n",
       "      <th>0</th>\n",
       "      <td>42</td>\n",
       "      <td>1920.0</td>\n",
       "      <td>36500</td>\n",
       "      <td>1332615</td>\n",
       "      <td>36.51</td>\n",
       "      <td>342005</td>\n",
       "      <td>9.37</td>\n",
       "      <td>990610</td>\n",
       "      <td>7300000</td>\n",
       "    </tr>\n",
       "    <tr>\n",
       "      <th>1</th>\n",
       "      <td>78</td>\n",
       "      <td>1985.0</td>\n",
       "      <td>126420</td>\n",
       "      <td>6633257</td>\n",
       "      <td>52.47</td>\n",
       "      <td>1762295</td>\n",
       "      <td>13.94</td>\n",
       "      <td>4870962</td>\n",
       "      <td>30690000</td>\n",
       "    </tr>\n",
       "    <tr>\n",
       "      <th>2</th>\n",
       "      <td>500</td>\n",
       "      <td>0.0</td>\n",
       "      <td>554174</td>\n",
       "      <td>17310000</td>\n",
       "      <td>31.24</td>\n",
       "      <td>3543000</td>\n",
       "      <td>6.39</td>\n",
       "      <td>13767000</td>\n",
       "      <td>90970000</td>\n",
       "    </tr>\n",
       "    <tr>\n",
       "      <th>3</th>\n",
       "      <td>282</td>\n",
       "      <td>1930.0</td>\n",
       "      <td>249076</td>\n",
       "      <td>11776313</td>\n",
       "      <td>47.28</td>\n",
       "      <td>2784670</td>\n",
       "      <td>11.18</td>\n",
       "      <td>8991643</td>\n",
       "      <td>67556006</td>\n",
       "    </tr>\n",
       "    <tr>\n",
       "      <th>4</th>\n",
       "      <td>239</td>\n",
       "      <td>1985.0</td>\n",
       "      <td>219495</td>\n",
       "      <td>10004582</td>\n",
       "      <td>45.58</td>\n",
       "      <td>2783197</td>\n",
       "      <td>12.68</td>\n",
       "      <td>7221385</td>\n",
       "      <td>54320996</td>\n",
       "    </tr>\n",
       "  </tbody>\n",
       "</table>\n",
       "</div>"
      ],
      "text/plain": [
       "   Total.Units  Year.Built  Gross.SqFt  Estimated.Gross.Income  \\\n",
       "0           42      1920.0       36500                 1332615   \n",
       "1           78      1985.0      126420                 6633257   \n",
       "2          500         0.0      554174                17310000   \n",
       "3          282      1930.0      249076                11776313   \n",
       "4          239      1985.0      219495                10004582   \n",
       "\n",
       "   Gross.Income.per.SqFt  Estimated.Expense  Expense.per.SqFt  \\\n",
       "0                  36.51             342005              9.37   \n",
       "1                  52.47            1762295             13.94   \n",
       "2                  31.24            3543000              6.39   \n",
       "3                  47.28            2784670             11.18   \n",
       "4                  45.58            2783197             12.68   \n",
       "\n",
       "   Net.Operating.Income  Full.Market.Value  \n",
       "0                990610            7300000  \n",
       "1               4870962           30690000  \n",
       "2              13767000           90970000  \n",
       "3               8991643           67556006  \n",
       "4               7221385           54320996  "
      ]
     },
     "execution_count": 109,
     "metadata": {},
     "output_type": "execute_result"
    }
   ],
   "source": [
    "housing_num = features.drop(columns=categorical_cols, axis=1)\n",
    "housing_num.head()"
   ]
  },
  {
   "cell_type": "code",
   "execution_count": 110,
   "metadata": {},
   "outputs": [
    {
     "data": {
      "text/html": [
       "<div>\n",
       "<style scoped>\n",
       "    .dataframe tbody tr th:only-of-type {\n",
       "        vertical-align: middle;\n",
       "    }\n",
       "\n",
       "    .dataframe tbody tr th {\n",
       "        vertical-align: top;\n",
       "    }\n",
       "\n",
       "    .dataframe thead th {\n",
       "        text-align: right;\n",
       "    }\n",
       "</style>\n",
       "<table border=\"1\" class=\"dataframe\">\n",
       "  <thead>\n",
       "    <tr style=\"text-align: right;\">\n",
       "      <th></th>\n",
       "      <th>Total.Units</th>\n",
       "      <th>Year.Built</th>\n",
       "      <th>Gross.SqFt</th>\n",
       "      <th>Estimated.Gross.Income</th>\n",
       "      <th>Gross.Income.per.SqFt</th>\n",
       "      <th>Estimated.Expense</th>\n",
       "      <th>Expense.per.SqFt</th>\n",
       "      <th>Net.Operating.Income</th>\n",
       "      <th>Full.Market.Value</th>\n",
       "      <th>Neighborhood_ALPHABET CITY</th>\n",
       "      <th>...</th>\n",
       "      <th>Neighborhood_WYCKOFF HEIGHTS</th>\n",
       "      <th>Building.Classification_R2-CONDOMINIUM</th>\n",
       "      <th>Building.Classification_R4-CONDOMINIUM</th>\n",
       "      <th>Building.Classification_R9-CONDOMINIUM</th>\n",
       "      <th>Building.Classification_RR-CONDOMINIUM</th>\n",
       "      <th>Boro_Bronx</th>\n",
       "      <th>Boro_Brooklyn</th>\n",
       "      <th>Boro_Manhattan</th>\n",
       "      <th>Boro_Queens</th>\n",
       "      <th>Boro_Staten Island</th>\n",
       "    </tr>\n",
       "  </thead>\n",
       "  <tbody>\n",
       "    <tr>\n",
       "      <th>0</th>\n",
       "      <td>42</td>\n",
       "      <td>1920.0</td>\n",
       "      <td>36500</td>\n",
       "      <td>1332615</td>\n",
       "      <td>36.51</td>\n",
       "      <td>342005</td>\n",
       "      <td>9.37</td>\n",
       "      <td>990610</td>\n",
       "      <td>7300000</td>\n",
       "      <td>0</td>\n",
       "      <td>...</td>\n",
       "      <td>0</td>\n",
       "      <td>0</td>\n",
       "      <td>0</td>\n",
       "      <td>1</td>\n",
       "      <td>0</td>\n",
       "      <td>0</td>\n",
       "      <td>0</td>\n",
       "      <td>1</td>\n",
       "      <td>0</td>\n",
       "      <td>0</td>\n",
       "    </tr>\n",
       "    <tr>\n",
       "      <th>1</th>\n",
       "      <td>78</td>\n",
       "      <td>1985.0</td>\n",
       "      <td>126420</td>\n",
       "      <td>6633257</td>\n",
       "      <td>52.47</td>\n",
       "      <td>1762295</td>\n",
       "      <td>13.94</td>\n",
       "      <td>4870962</td>\n",
       "      <td>30690000</td>\n",
       "      <td>0</td>\n",
       "      <td>...</td>\n",
       "      <td>0</td>\n",
       "      <td>0</td>\n",
       "      <td>1</td>\n",
       "      <td>0</td>\n",
       "      <td>0</td>\n",
       "      <td>0</td>\n",
       "      <td>0</td>\n",
       "      <td>1</td>\n",
       "      <td>0</td>\n",
       "      <td>0</td>\n",
       "    </tr>\n",
       "    <tr>\n",
       "      <th>2</th>\n",
       "      <td>500</td>\n",
       "      <td>0.0</td>\n",
       "      <td>554174</td>\n",
       "      <td>17310000</td>\n",
       "      <td>31.24</td>\n",
       "      <td>3543000</td>\n",
       "      <td>6.39</td>\n",
       "      <td>13767000</td>\n",
       "      <td>90970000</td>\n",
       "      <td>0</td>\n",
       "      <td>...</td>\n",
       "      <td>0</td>\n",
       "      <td>0</td>\n",
       "      <td>0</td>\n",
       "      <td>0</td>\n",
       "      <td>1</td>\n",
       "      <td>0</td>\n",
       "      <td>0</td>\n",
       "      <td>1</td>\n",
       "      <td>0</td>\n",
       "      <td>0</td>\n",
       "    </tr>\n",
       "    <tr>\n",
       "      <th>3</th>\n",
       "      <td>282</td>\n",
       "      <td>1930.0</td>\n",
       "      <td>249076</td>\n",
       "      <td>11776313</td>\n",
       "      <td>47.28</td>\n",
       "      <td>2784670</td>\n",
       "      <td>11.18</td>\n",
       "      <td>8991643</td>\n",
       "      <td>67556006</td>\n",
       "      <td>0</td>\n",
       "      <td>...</td>\n",
       "      <td>0</td>\n",
       "      <td>0</td>\n",
       "      <td>1</td>\n",
       "      <td>0</td>\n",
       "      <td>0</td>\n",
       "      <td>0</td>\n",
       "      <td>0</td>\n",
       "      <td>1</td>\n",
       "      <td>0</td>\n",
       "      <td>0</td>\n",
       "    </tr>\n",
       "    <tr>\n",
       "      <th>4</th>\n",
       "      <td>239</td>\n",
       "      <td>1985.0</td>\n",
       "      <td>219495</td>\n",
       "      <td>10004582</td>\n",
       "      <td>45.58</td>\n",
       "      <td>2783197</td>\n",
       "      <td>12.68</td>\n",
       "      <td>7221385</td>\n",
       "      <td>54320996</td>\n",
       "      <td>0</td>\n",
       "      <td>...</td>\n",
       "      <td>0</td>\n",
       "      <td>0</td>\n",
       "      <td>1</td>\n",
       "      <td>0</td>\n",
       "      <td>0</td>\n",
       "      <td>0</td>\n",
       "      <td>0</td>\n",
       "      <td>1</td>\n",
       "      <td>0</td>\n",
       "      <td>0</td>\n",
       "    </tr>\n",
       "  </tbody>\n",
       "</table>\n",
       "<p>5 rows × 169 columns</p>\n",
       "</div>"
      ],
      "text/plain": [
       "   Total.Units  Year.Built  Gross.SqFt  Estimated.Gross.Income  \\\n",
       "0           42      1920.0       36500                 1332615   \n",
       "1           78      1985.0      126420                 6633257   \n",
       "2          500         0.0      554174                17310000   \n",
       "3          282      1930.0      249076                11776313   \n",
       "4          239      1985.0      219495                10004582   \n",
       "\n",
       "   Gross.Income.per.SqFt  Estimated.Expense  Expense.per.SqFt  \\\n",
       "0                  36.51             342005              9.37   \n",
       "1                  52.47            1762295             13.94   \n",
       "2                  31.24            3543000              6.39   \n",
       "3                  47.28            2784670             11.18   \n",
       "4                  45.58            2783197             12.68   \n",
       "\n",
       "   Net.Operating.Income  Full.Market.Value  Neighborhood_ALPHABET CITY  ...  \\\n",
       "0                990610            7300000                           0  ...   \n",
       "1               4870962           30690000                           0  ...   \n",
       "2              13767000           90970000                           0  ...   \n",
       "3               8991643           67556006                           0  ...   \n",
       "4               7221385           54320996                           0  ...   \n",
       "\n",
       "   Neighborhood_WYCKOFF HEIGHTS  Building.Classification_R2-CONDOMINIUM  \\\n",
       "0                             0                                       0   \n",
       "1                             0                                       0   \n",
       "2                             0                                       0   \n",
       "3                             0                                       0   \n",
       "4                             0                                       0   \n",
       "\n",
       "   Building.Classification_R4-CONDOMINIUM  \\\n",
       "0                                       0   \n",
       "1                                       1   \n",
       "2                                       0   \n",
       "3                                       1   \n",
       "4                                       1   \n",
       "\n",
       "   Building.Classification_R9-CONDOMINIUM  \\\n",
       "0                                       1   \n",
       "1                                       0   \n",
       "2                                       0   \n",
       "3                                       0   \n",
       "4                                       0   \n",
       "\n",
       "   Building.Classification_RR-CONDOMINIUM  Boro_Bronx  Boro_Brooklyn  \\\n",
       "0                                       0           0              0   \n",
       "1                                       0           0              0   \n",
       "2                                       1           0              0   \n",
       "3                                       0           0              0   \n",
       "4                                       0           0              0   \n",
       "\n",
       "   Boro_Manhattan  Boro_Queens  Boro_Staten Island  \n",
       "0               1            0                   0  \n",
       "1               1            0                   0  \n",
       "2               1            0                   0  \n",
       "3               1            0                   0  \n",
       "4               1            0                   0  \n",
       "\n",
       "[5 rows x 169 columns]"
      ]
     },
     "execution_count": 110,
     "metadata": {},
     "output_type": "execute_result"
    }
   ],
   "source": [
    "housing_prepared = pd.get_dummies(features)\n",
    "housing_prepared.head()"
   ]
  },
  {
   "cell_type": "code",
   "execution_count": 111,
   "metadata": {},
   "outputs": [],
   "source": [
    "#we can add here more steps for pipline\n",
    "# numerical_pip = Pipeline([(\"StdScaller\",StandardScaler())])\n",
    "std_scaller = StandardScaler()\n",
    "housing_tr = std_scaller.fit_transform(housing_prepared)"
   ]
  },
  {
   "cell_type": "code",
   "execution_count": 112,
   "metadata": {},
   "outputs": [],
   "source": [
    "# housing_numeric_tr = numerical_pip.fit_transform(housing_num)"
   ]
  },
  {
   "cell_type": "code",
   "execution_count": 113,
   "metadata": {},
   "outputs": [],
   "source": [
    "#apply full pipline for both numeric and categorical columns\n",
    "# numeric_attr = list(housing_num)\n",
    "# categorical_attr = ['Neighborhood'\t,'Building.Classification'\t,'Boro']\n",
    "# full_pipeline = ColumnTransformer([(\"num\",numerical_pip,numeric_attr),\n",
    "#                    (\"cat\",OneHotEncoder(),categorical_attr),\n",
    "#                    ])"
   ]
  },
  {
   "cell_type": "code",
   "execution_count": 114,
   "metadata": {},
   "outputs": [],
   "source": [
    "# housing_prepare = full_pipeline.fit_transform(df)"
   ]
  },
  {
   "cell_type": "code",
   "execution_count": 115,
   "metadata": {},
   "outputs": [],
   "source": [
    "# full_pipeline"
   ]
  },
  {
   "attachments": {},
   "cell_type": "markdown",
   "metadata": {},
   "source": [
    "### **Select and train a model**"
   ]
  },
  {
   "cell_type": "code",
   "execution_count": 116,
   "metadata": {},
   "outputs": [
    {
     "data": {
      "text/plain": [
       "LinearRegression()"
      ]
     },
     "execution_count": 116,
     "metadata": {},
     "output_type": "execute_result"
    }
   ],
   "source": [
    "linear_reg = LinearRegression()\n",
    "linear_reg.fit(housing_tr,housing_labels)"
   ]
  },
  {
   "cell_type": "code",
   "execution_count": 117,
   "metadata": {},
   "outputs": [
    {
     "data": {
      "text/plain": [
       "DecisionTreeRegressor()"
      ]
     },
     "execution_count": 117,
     "metadata": {},
     "output_type": "execute_result"
    }
   ],
   "source": [
    "#build tree regression model \n",
    "tree_reg = DecisionTreeRegressor()\n",
    "tree_reg.fit(housing_tr,housing_labels)"
   ]
  },
  {
   "cell_type": "code",
   "execution_count": 118,
   "metadata": {},
   "outputs": [],
   "source": [
    "# some_data = features.iloc[:5]\n",
    "# some_labels = housing_lable.iloc[:5]\n",
    "# some_data_prepared = full_pipeline.transform(some_data)\n",
    "# print(\"Predictions:\", linear_reg.predict(some_data_prepared))"
   ]
  },
  {
   "attachments": {},
   "cell_type": "markdown",
   "metadata": {},
   "source": [
    "#### **Cross Validation**"
   ]
  },
  {
   "cell_type": "code",
   "execution_count": 119,
   "metadata": {},
   "outputs": [],
   "source": [
    "# test linear regression\n",
    "scores= cross_val_score(linear_reg,housing_prepared, housing_labels,\n",
    "scoring=\"neg_mean_squared_error\", cv=10)\n",
    "lin_reg_rmse_scores = np.sqrt(-scores)"
   ]
  },
  {
   "cell_type": "code",
   "execution_count": 120,
   "metadata": {},
   "outputs": [],
   "source": [
    "def display_scores(scores):\n",
    "    print(\"Scores:\", scores)\n",
    "    print(\"Mean:\", scores.mean())\n",
    "    print(\"Standard deviation:\", scores.std())"
   ]
  },
  {
   "cell_type": "code",
   "execution_count": 121,
   "metadata": {},
   "outputs": [
    {
     "name": "stdout",
     "output_type": "stream",
     "text": [
      "Scores: [1.17786218e-08 1.36704319e-08 4.29799824e-08 2.36837265e-08\n",
      " 1.77402534e-08 1.67230765e-08 1.52479250e-08 8.92252872e-09\n",
      " 1.23716283e-08 2.15444485e-08]\n",
      "Mean: 1.8466262304631736e-08\n",
      "Standard deviation: 9.205949464798145e-09\n"
     ]
    }
   ],
   "source": [
    "display_scores(lin_reg_rmse_scores)"
   ]
  },
  {
   "cell_type": "code",
   "execution_count": 122,
   "metadata": {},
   "outputs": [],
   "source": [
    "#test tree regression\n",
    "scores= cross_val_score(tree_reg, housing_prepared, housing_labels,\n",
    "scoring=\"neg_mean_squared_error\", cv=10)\n",
    "tree_rmse_scores = np.sqrt(-scores)"
   ]
  },
  {
   "cell_type": "code",
   "execution_count": 123,
   "metadata": {},
   "outputs": [
    {
     "name": "stdout",
     "output_type": "stream",
     "text": [
      "Scores: [ 769002.85079719  599341.62699773 4559102.26415787 3045989.90661497\n",
      " 6676462.00300111   51820.16611588   35163.48884819   12921.59584831\n",
      "   80115.38330214  149756.44748222]\n",
      "Mean: 1597967.5733165622\n",
      "Standard deviation: 2238015.1741409\n"
     ]
    }
   ],
   "source": [
    "display_scores(tree_rmse_scores)"
   ]
  },
  {
   "cell_type": "code",
   "execution_count": 124,
   "metadata": {},
   "outputs": [
    {
     "data": {
      "text/plain": [
       "12977807.588"
      ]
     },
     "execution_count": 124,
     "metadata": {},
     "output_type": "execute_result"
    }
   ],
   "source": [
    "#ensure from the result\n",
    "round(df['Full.Market.Value'].mean(),3)"
   ]
  },
  {
   "cell_type": "code",
   "execution_count": 125,
   "metadata": {},
   "outputs": [
    {
     "data": {
      "text/plain": [
       "RandomForestRegressor()"
      ]
     },
     "execution_count": 125,
     "metadata": {},
     "output_type": "execute_result"
    }
   ],
   "source": [
    "#build RandomForestRregressor\n",
    "forest_reg = RandomForestRegressor()\n",
    "forest_reg.fit(housing_prepared, housing_labels)"
   ]
  },
  {
   "cell_type": "code",
   "execution_count": 126,
   "metadata": {},
   "outputs": [],
   "source": [
    "scores= cross_val_score(tree_reg, housing_prepared, housing_labels,\n",
    "scoring=\"neg_mean_squared_error\", cv=10)\n",
    "forest_rmse_scores = np.sqrt(-scores)"
   ]
  },
  {
   "cell_type": "code",
   "execution_count": 127,
   "metadata": {},
   "outputs": [
    {
     "name": "stdout",
     "output_type": "stream",
     "text": [
      "Scores: [ 782192.67913187  259685.2128991  4700460.95079504 1946932.4781299\n",
      " 5741486.33651228   54614.20941703   24855.53206075   11960.53815807\n",
      "   27395.97792463   68936.53816692]\n",
      "Mean: 1361852.0453195584\n",
      "Standard deviation: 2024639.2960252631\n"
     ]
    }
   ],
   "source": [
    "display_scores(forest_rmse_scores)"
   ]
  },
  {
   "attachments": {},
   "cell_type": "markdown",
   "metadata": {},
   "source": [
    "### **Fine-Tune Our Model**"
   ]
  },
  {
   "cell_type": "code",
   "execution_count": 128,
   "metadata": {},
   "outputs": [],
   "source": [
    "params_gird = [{'n_estimators':[3,10,30],'max_features':[1,2,4,6,8,10]},\n",
    "               {'n_estimators':[3,6,7,10],'bootstrap':[False],'max_features':[2,3,12,6,4]}] "
   ]
  },
  {
   "cell_type": "code",
   "execution_count": 129,
   "metadata": {},
   "outputs": [],
   "source": [
    "grid_search = GridSearchCV(forest_reg,params_gird,cv=5,\n",
    "                           scoring='neg_mean_squared_error',\n",
    "                           return_train_score=True)"
   ]
  },
  {
   "cell_type": "code",
   "execution_count": 130,
   "metadata": {},
   "outputs": [
    {
     "data": {
      "text/plain": [
       "GridSearchCV(cv=5, estimator=RandomForestRegressor(),\n",
       "             param_grid=[{'max_features': [1, 2, 4, 6, 8, 10],\n",
       "                          'n_estimators': [3, 10, 30]},\n",
       "                         {'bootstrap': [False],\n",
       "                          'max_features': [2, 3, 12, 6, 4],\n",
       "                          'n_estimators': [3, 6, 7, 10]}],\n",
       "             return_train_score=True, scoring='neg_mean_squared_error')"
      ]
     },
     "execution_count": 130,
     "metadata": {},
     "output_type": "execute_result"
    }
   ],
   "source": [
    "grid_search.fit(housing_prepared, housing_labels)"
   ]
  },
  {
   "cell_type": "code",
   "execution_count": 131,
   "metadata": {},
   "outputs": [],
   "source": [
    "def print_results(results):\n",
    "    print('BEST PARAMS: {}\\n'.format(results.best_params_))\n",
    "\n",
    "    means = results.cv_results_['mean_test_score']\n",
    "    stds = results.cv_results_['std_test_score']\n",
    "    for mean, std, params in zip(means, stds, results.cv_results_['params']):\n",
    "        print('Mean  {}   Std   (+/- {}) for {}'.format(round(-mean, 3), round(std * 2, 3), params))"
   ]
  },
  {
   "cell_type": "code",
   "execution_count": 132,
   "metadata": {},
   "outputs": [
    {
     "name": "stdout",
     "output_type": "stream",
     "text": [
      "BEST PARAMS: {'bootstrap': False, 'max_features': 3, 'n_estimators': 10}\n",
      "\n",
      "Mean  85910730789378.92   Std   (+/- 244770720440763.94) for {'max_features': 1, 'n_estimators': 3}\n",
      "Mean  48264943880803.61   Std   (+/- 121064226826547.48) for {'max_features': 1, 'n_estimators': 10}\n",
      "Mean  41857619264075.83   Std   (+/- 96480886960844.48) for {'max_features': 1, 'n_estimators': 30}\n",
      "Mean  45147734023898.61   Std   (+/- 85363571755707.02) for {'max_features': 2, 'n_estimators': 3}\n",
      "Mean  42493870115827.26   Std   (+/- 93884079263902.11) for {'max_features': 2, 'n_estimators': 10}\n",
      "Mean  40112800983225.414   Std   (+/- 92259584214996.61) for {'max_features': 2, 'n_estimators': 30}\n",
      "Mean  64263313405883.15   Std   (+/- 160046843883090.25) for {'max_features': 4, 'n_estimators': 3}\n",
      "Mean  38675872799146.086   Std   (+/- 97543226371394.84) for {'max_features': 4, 'n_estimators': 10}\n",
      "Mean  33602139641437.086   Std   (+/- 72662717157745.83) for {'max_features': 4, 'n_estimators': 30}\n",
      "Mean  80593584679922.78   Std   (+/- 250890848740954.66) for {'max_features': 6, 'n_estimators': 3}\n",
      "Mean  32261620217431.812   Std   (+/- 76031794379418.48) for {'max_features': 6, 'n_estimators': 10}\n",
      "Mean  40523108827341.96   Std   (+/- 105390209814842.38) for {'max_features': 6, 'n_estimators': 30}\n",
      "Mean  37477733632100.46   Std   (+/- 82233010271653.62) for {'max_features': 8, 'n_estimators': 3}\n",
      "Mean  43351152130498.8   Std   (+/- 111977735142966.72) for {'max_features': 8, 'n_estimators': 10}\n",
      "Mean  38833188503940.89   Std   (+/- 87503983081370.1) for {'max_features': 8, 'n_estimators': 30}\n",
      "Mean  41267431704319.71   Std   (+/- 71325349569180.83) for {'max_features': 10, 'n_estimators': 3}\n",
      "Mean  24408835149846.242   Std   (+/- 59217196262398.68) for {'max_features': 10, 'n_estimators': 10}\n",
      "Mean  24868822693063.227   Std   (+/- 52300884821628.75) for {'max_features': 10, 'n_estimators': 30}\n",
      "Mean  61936349352919.48   Std   (+/- 128320169502339.75) for {'bootstrap': False, 'max_features': 2, 'n_estimators': 3}\n",
      "Mean  42011091896968.02   Std   (+/- 96621661215407.28) for {'bootstrap': False, 'max_features': 2, 'n_estimators': 6}\n",
      "Mean  35829026138648.51   Std   (+/- 80531026259863.1) for {'bootstrap': False, 'max_features': 2, 'n_estimators': 7}\n",
      "Mean  45192095566745.7   Std   (+/- 100300566402511.02) for {'bootstrap': False, 'max_features': 2, 'n_estimators': 10}\n",
      "Mean  52740404790848.73   Std   (+/- 120067229442531.08) for {'bootstrap': False, 'max_features': 3, 'n_estimators': 3}\n",
      "Mean  28486142058724.426   Std   (+/- 47304447929904.49) for {'bootstrap': False, 'max_features': 3, 'n_estimators': 6}\n",
      "Mean  40209893271361.31   Std   (+/- 92273676559641.34) for {'bootstrap': False, 'max_features': 3, 'n_estimators': 7}\n",
      "Mean  22037844066555.58   Std   (+/- 45815350452632.35) for {'bootstrap': False, 'max_features': 3, 'n_estimators': 10}\n",
      "Mean  35215234699703.984   Std   (+/- 88442176210321.08) for {'bootstrap': False, 'max_features': 12, 'n_estimators': 3}\n",
      "Mean  22455962671304.004   Std   (+/- 51892792200651.445) for {'bootstrap': False, 'max_features': 12, 'n_estimators': 6}\n",
      "Mean  28945531273561.246   Std   (+/- 60747793929641.96) for {'bootstrap': False, 'max_features': 12, 'n_estimators': 7}\n",
      "Mean  29668766584065.938   Std   (+/- 77330393134142.03) for {'bootstrap': False, 'max_features': 12, 'n_estimators': 10}\n",
      "Mean  50213590384732.484   Std   (+/- 95417116866747.44) for {'bootstrap': False, 'max_features': 6, 'n_estimators': 3}\n",
      "Mean  35230032824456.266   Std   (+/- 100991842483036.84) for {'bootstrap': False, 'max_features': 6, 'n_estimators': 6}\n",
      "Mean  41311668852088.6   Std   (+/- 102145773415690.16) for {'bootstrap': False, 'max_features': 6, 'n_estimators': 7}\n",
      "Mean  32880659763597.54   Std   (+/- 54693452146839.59) for {'bootstrap': False, 'max_features': 6, 'n_estimators': 10}\n",
      "Mean  23714344773616.85   Std   (+/- 46247952504153.63) for {'bootstrap': False, 'max_features': 4, 'n_estimators': 3}\n",
      "Mean  40564678391734.87   Std   (+/- 83509673928542.62) for {'bootstrap': False, 'max_features': 4, 'n_estimators': 6}\n",
      "Mean  33239059225327.03   Std   (+/- 82330793712528.62) for {'bootstrap': False, 'max_features': 4, 'n_estimators': 7}\n",
      "Mean  34137814303804.477   Std   (+/- 80222665461770.47) for {'bootstrap': False, 'max_features': 4, 'n_estimators': 10}\n"
     ]
    }
   ],
   "source": [
    "print_results(grid_search)"
   ]
  },
  {
   "cell_type": "code",
   "execution_count": 133,
   "metadata": {},
   "outputs": [
    {
     "data": {
      "text/plain": [
       "RandomForestRegressor(bootstrap=False, max_features=3, n_estimators=10)"
      ]
     },
     "execution_count": 133,
     "metadata": {},
     "output_type": "execute_result"
    }
   ],
   "source": [
    "grid_search.best_estimator_"
   ]
  },
  {
   "cell_type": "code",
   "execution_count": 134,
   "metadata": {},
   "outputs": [
    {
     "data": {
      "text/plain": [
       "DecisionTreeRegressor()"
      ]
     },
     "execution_count": 134,
     "metadata": {},
     "output_type": "execute_result"
    }
   ],
   "source": [
    "DecisionTreeRegressor()"
   ]
  },
  {
   "attachments": {},
   "cell_type": "markdown",
   "metadata": {},
   "source": [
    "### **Conclusion of the first try of model development**\n",
    "- the best model between all model is DecsionTreeRegressor \n",
    "- which give us the best prediction \n",
    "- we can increase prediction result with more fine tunning for this model or try another models\n",
    "- finally we must test our model in envirnoment by test set"
   ]
  },
  {
   "attachments": {},
   "cell_type": "markdown",
   "metadata": {},
   "source": []
  },
  {
   "cell_type": "code",
   "execution_count": 135,
   "metadata": {},
   "outputs": [
    {
     "data": {
      "image/png": "[encoded data removed]",
      "text/plain": [
       "<Figure size 1080x720 with 2 Axes>"
      ]
     },
     "metadata": {
      "needs_background": "light"
     },
     "output_type": "display_data"
    }
   ],
   "source": [
    "#find correlation beween numerical features\n",
    "housing_num = features.drop(columns=categorical_cols, axis=1)\n",
    "fig, ax = plt.subplots(figsize=(15, 10))\n",
    "corr  = housing_num.corr()\n",
    "mask = np.zeros_like(corr)\n",
    "mask[np.triu_indices_from(mask)] = True\n",
    "sns.heatmap(corr, cmap='coolwarm', annot=True, fmt='.2f', linewidths=.5, ax=ax, mask=mask)\n",
    "plt.title(\"Numeric housing features correlation\")\n",
    "plt.show()"
   ]
  },
  {
   "cell_type": "code",
   "execution_count": 136,
   "metadata": {},
   "outputs": [],
   "source": [
    "#find the features have correlation higher than 90%\n",
    "h_corr = []\n",
    "def find_H_corr(col_features):\n",
    "    for i in range(len(col_features)-1):\n",
    "        for j in range(i+1,len(col_features)):\n",
    "            if corr[col_features[i]][col_features[j]] >0.90:\n",
    "                print(col_features[i],col_features[j],corr[col_features[i]][col_features[j]])\n",
    "                h_corr.append(col_features[j])"
   ]
  },
  {
   "cell_type": "code",
   "execution_count": null,
   "metadata": {},
   "outputs": [],
   "source": []
  },
  {
   "cell_type": "code",
   "execution_count": 137,
   "metadata": {},
   "outputs": [
    {
     "name": "stdout",
     "output_type": "stream",
     "text": [
      "Total.Units Gross.SqFt 0.9577540127801634\n",
      "Gross.SqFt Estimated.Expense 0.9433134914402447\n",
      "Estimated.Gross.Income Estimated.Expense 0.9576950773269204\n",
      "Estimated.Gross.Income Net.Operating.Income 0.9918869923293705\n",
      "Estimated.Gross.Income Full.Market.Value 0.9829985122100484\n",
      "Estimated.Expense Net.Operating.Income 0.9133412830910128\n",
      "Net.Operating.Income Full.Market.Value 0.994099026619843\n"
     ]
    }
   ],
   "source": [
    "columns = housing_num.columns.tolist()\n",
    "find_H_corr(columns)"
   ]
  },
  {
   "cell_type": "code",
   "execution_count": 138,
   "metadata": {},
   "outputs": [
    {
     "data": {
      "text/html": [
       "<div>\n",
       "<style scoped>\n",
       "    .dataframe tbody tr th:only-of-type {\n",
       "        vertical-align: middle;\n",
       "    }\n",
       "\n",
       "    .dataframe tbody tr th {\n",
       "        vertical-align: top;\n",
       "    }\n",
       "\n",
       "    .dataframe thead th {\n",
       "        text-align: right;\n",
       "    }\n",
       "</style>\n",
       "<table border=\"1\" class=\"dataframe\">\n",
       "  <thead>\n",
       "    <tr style=\"text-align: right;\">\n",
       "      <th></th>\n",
       "      <th>Neighborhood</th>\n",
       "      <th>Building.Classification</th>\n",
       "      <th>Total.Units</th>\n",
       "      <th>Year.Built</th>\n",
       "      <th>Estimated.Gross.Income</th>\n",
       "      <th>Gross.Income.per.SqFt</th>\n",
       "      <th>Expense.per.SqFt</th>\n",
       "      <th>Boro</th>\n",
       "    </tr>\n",
       "  </thead>\n",
       "  <tbody>\n",
       "    <tr>\n",
       "      <th>0</th>\n",
       "      <td>FINANCIAL</td>\n",
       "      <td>R9-CONDOMINIUM</td>\n",
       "      <td>42</td>\n",
       "      <td>1920.0</td>\n",
       "      <td>1332615</td>\n",
       "      <td>36.51</td>\n",
       "      <td>9.37</td>\n",
       "      <td>Manhattan</td>\n",
       "    </tr>\n",
       "    <tr>\n",
       "      <th>1</th>\n",
       "      <td>FINANCIAL</td>\n",
       "      <td>R4-CONDOMINIUM</td>\n",
       "      <td>78</td>\n",
       "      <td>1985.0</td>\n",
       "      <td>6633257</td>\n",
       "      <td>52.47</td>\n",
       "      <td>13.94</td>\n",
       "      <td>Manhattan</td>\n",
       "    </tr>\n",
       "    <tr>\n",
       "      <th>2</th>\n",
       "      <td>FINANCIAL</td>\n",
       "      <td>RR-CONDOMINIUM</td>\n",
       "      <td>500</td>\n",
       "      <td>0.0</td>\n",
       "      <td>17310000</td>\n",
       "      <td>31.24</td>\n",
       "      <td>6.39</td>\n",
       "      <td>Manhattan</td>\n",
       "    </tr>\n",
       "    <tr>\n",
       "      <th>3</th>\n",
       "      <td>FINANCIAL</td>\n",
       "      <td>R4-CONDOMINIUM</td>\n",
       "      <td>282</td>\n",
       "      <td>1930.0</td>\n",
       "      <td>11776313</td>\n",
       "      <td>47.28</td>\n",
       "      <td>11.18</td>\n",
       "      <td>Manhattan</td>\n",
       "    </tr>\n",
       "    <tr>\n",
       "      <th>4</th>\n",
       "      <td>TRIBECA</td>\n",
       "      <td>R4-CONDOMINIUM</td>\n",
       "      <td>239</td>\n",
       "      <td>1985.0</td>\n",
       "      <td>10004582</td>\n",
       "      <td>45.58</td>\n",
       "      <td>12.68</td>\n",
       "      <td>Manhattan</td>\n",
       "    </tr>\n",
       "  </tbody>\n",
       "</table>\n",
       "</div>"
      ],
      "text/plain": [
       "  Neighborhood Building.Classification  Total.Units  Year.Built  \\\n",
       "0    FINANCIAL          R9-CONDOMINIUM           42      1920.0   \n",
       "1    FINANCIAL          R4-CONDOMINIUM           78      1985.0   \n",
       "2    FINANCIAL          RR-CONDOMINIUM          500         0.0   \n",
       "3    FINANCIAL          R4-CONDOMINIUM          282      1930.0   \n",
       "4      TRIBECA          R4-CONDOMINIUM          239      1985.0   \n",
       "\n",
       "   Estimated.Gross.Income  Gross.Income.per.SqFt  Expense.per.SqFt       Boro  \n",
       "0                 1332615                  36.51              9.37  Manhattan  \n",
       "1                 6633257                  52.47             13.94  Manhattan  \n",
       "2                17310000                  31.24              6.39  Manhattan  \n",
       "3                11776313                  47.28             11.18  Manhattan  \n",
       "4                10004582                  45.58             12.68  Manhattan  "
      ]
     },
     "execution_count": 138,
     "metadata": {},
     "output_type": "execute_result"
    }
   ],
   "source": [
    "features = features.drop(columns=h_corr,axis=1)\n",
    "features.head()"
   ]
  },
  {
   "cell_type": "code",
   "execution_count": 139,
   "metadata": {},
   "outputs": [
    {
     "data": {
      "text/plain": [
       "Neighborhood               0\n",
       "Building.Classification    0\n",
       "Total.Units                0\n",
       "Year.Built                 0\n",
       "Estimated.Gross.Income     0\n",
       "Gross.Income.per.SqFt      0\n",
       "Expense.per.SqFt           0\n",
       "Boro                       0\n",
       "dtype: int64"
      ]
     },
     "execution_count": 139,
     "metadata": {},
     "output_type": "execute_result"
    }
   ],
   "source": [
    "#remove missing data\n",
    "features.isnull().sum()"
   ]
  },
  {
   "cell_type": "code",
   "execution_count": 140,
   "metadata": {},
   "outputs": [],
   "source": [
    "features['Year.Built'].fillna(0,inplace = True)"
   ]
  },
  {
   "cell_type": "code",
   "execution_count": 141,
   "metadata": {},
   "outputs": [],
   "source": [
    "def data_preparing(features):\n",
    "    housing_dummies = pd.get_dummies(features)\n",
    "    std_scall = StandardScaler()\n",
    "    return std_scall.fit_transform(housing_dummies)"
   ]
  },
  {
   "cell_type": "code",
   "execution_count": 160,
   "metadata": {},
   "outputs": [
    {
     "ename": "TypeError",
     "evalue": "'function' object is not subscriptable",
     "output_type": "error",
     "traceback": [
      "\u001b[1;31m---------------------------------------------------------------------------\u001b[0m",
      "\u001b[1;31mTypeError\u001b[0m                                 Traceback (most recent call last)",
      "\u001b[1;32me:\\personal data\\special work at upwork\\streamlit app\\Build First ML.ipynb Cell 59\u001b[0m in \u001b[0;36m<cell line: 1>\u001b[1;34m()\u001b[0m\n\u001b[1;32m----> <a href='vscode-notebook-cell:/e%3A/personal%20data/special%20work%20at%20upwork/streamlit%20app/Build%20First%20ML.ipynb#Y143sZmlsZQ%3D%3D?line=0'>1</a>\u001b[0m data_preparing[\u001b[39m'\u001b[39;49m\u001b[39mhousing_dummies\u001b[39;49m\u001b[39m'\u001b[39;49m]\n",
      "\u001b[1;31mTypeError\u001b[0m: 'function' object is not subscriptable"
     ]
    }
   ],
   "source": [
    "data_preparing['housing_dummies']"
   ]
  },
  {
   "cell_type": "code",
   "execution_count": 142,
   "metadata": {},
   "outputs": [],
   "source": [
    "housing_prepared =  data_preparing(features)"
   ]
  },
  {
   "cell_type": "code",
   "execution_count": 143,
   "metadata": {},
   "outputs": [
    {
     "data": {
      "text/plain": [
       "DecisionTreeRegressor()"
      ]
     },
     "execution_count": 143,
     "metadata": {},
     "output_type": "execute_result"
    }
   ],
   "source": [
    "#build tree regression model \n",
    "tree_reg = DecisionTreeRegressor()\n",
    "tree_reg.fit(housing_prepared,housing_labels)"
   ]
  },
  {
   "cell_type": "code",
   "execution_count": 144,
   "metadata": {},
   "outputs": [],
   "source": [
    "#test tree regression\n",
    "scores= cross_val_score(tree_reg, housing_prepared, housing_labels,\n",
    "scoring=\"neg_mean_squared_error\", cv=10)\n",
    "tree_rmse_scores = np.sqrt(-scores)"
   ]
  },
  {
   "cell_type": "code",
   "execution_count": 145,
   "metadata": {},
   "outputs": [
    {
     "name": "stdout",
     "output_type": "stream",
     "text": [
      "Scores: [ 3299410.86239013  2575123.40190872 10005959.28152558  6610749.70450714\n",
      "  6494534.94450572  1196745.85967443   758133.78282122  1432074.72118698\n",
      "  1346400.33920896  6246956.34773277]\n",
      "Mean: 3996608.9245461645\n",
      "Standard deviation: 2977982.933751578\n"
     ]
    }
   ],
   "source": [
    "display_scores(tree_rmse_scores)"
   ]
  },
  {
   "attachments": {},
   "cell_type": "markdown",
   "metadata": {},
   "source": [
    "### **Conclusion for reduce correlated features**\n",
    "- accuray of the our best model is reduced\n",
    "- because we use small amount of data we can't reduce the features"
   ]
  },
  {
   "cell_type": "code",
   "execution_count": 156,
   "metadata": {},
   "outputs": [
    {
     "data": {
      "text/plain": [
       "array([ 0.05785269,  0.24092757,  0.86137517,  2.35184285,  1.92883127,\n",
       "       -0.09603996, -0.019518  , -0.10929799, -0.04785474, -0.055279  ,\n",
       "       -0.05864343, -0.02760788, -0.16304376, -0.019518  , -0.0516989 ,\n",
       "       -0.019518  , -0.08072116, -0.12437003, -0.03905833, -0.10749996,\n",
       "       -0.02760788, -0.03381906, -0.06182742, -0.019518  , -0.02760788,\n",
       "       -0.04367687, -0.06485754, -0.1862068 , -0.08978541, -0.019518  ,\n",
       "       -0.09399978, -0.10929799, -0.07829603, -0.04785474, -0.06485754,\n",
       "       -0.03381906, -0.03905833, -0.08072116, -0.07579529, -0.07321118,\n",
       "       -0.03381906, -0.04367687, -0.019518  , -0.04785474, -0.03381906,\n",
       "       -0.1       , -0.1462616 , -0.03905833, -0.07579529,  8.36498494,\n",
       "       -0.0516989 , -0.019518  , -0.019518  , -0.05864343, -0.13204205,\n",
       "       -0.019518  , -0.23097484, -0.055279  , -0.08072116, -0.07053456,\n",
       "       -0.03905833, -0.03905833, -0.08072116, -0.02760788, -0.0853702 ,\n",
       "       -0.019518  , -0.08760478, -0.15291402, -0.1489551 , -0.019518  ,\n",
       "       -0.04367687, -0.19267798, -0.11789662, -0.06775445, -0.02760788,\n",
       "       -0.019518  , -0.019518  , -0.019518  , -0.04367687, -0.02760788,\n",
       "       -0.08978541, -0.04367687, -0.02760788, -0.019518  , -0.02760788,\n",
       "       -0.06182742, -0.019518  , -0.04367687, -0.07053456, -0.07053456,\n",
       "       -0.019518  , -0.09603996, -0.12749067, -0.08978541, -0.09399978,\n",
       "       -0.03905833, -0.0516989 , -0.07053456, -0.14761397, -0.13499673,\n",
       "       -0.07053456, -0.019518  , -0.019518  , -0.019518  , -0.07829603,\n",
       "       -0.019518  , -0.12278183, -0.03381906, -0.02760788, -0.06182742,\n",
       "       -0.019518  , -0.06485754, -0.06182742, -0.019518  , -0.019518  ,\n",
       "       -0.12437003, -0.07053456, -0.02760788, -0.019518  , -0.04785474,\n",
       "       -0.10192454, -0.03381906, -0.08072116, -0.04367687, -0.019518  ,\n",
       "       -0.019518  , -0.10567275, -0.02760788, -0.1462616 , -0.04785474,\n",
       "       -0.019518  , -0.05864343, -0.06485754, -0.09603996, -0.03381906,\n",
       "       -0.019518  , -0.17028466, -0.22167776, -0.17496355, -0.04367687,\n",
       "       -0.18510932, -0.16056541, -0.11453071, -0.04367687, -0.04785474,\n",
       "       -0.019518  , -0.02760788, -0.02760788, -0.15931325, -0.12593941,\n",
       "       -0.10192454, -0.12593941, -0.04785474, -0.03905833, -0.055279  ,\n",
       "       -0.04367687, -0.44925568,  0.62815851, -0.31496776, -0.15931325,\n",
       "       -0.16427035, -0.61285342,  0.95020974, -0.44496371, -0.1       ])"
      ]
     },
     "execution_count": 156,
     "metadata": {},
     "output_type": "execute_result"
    }
   ],
   "source": []
  },
  {
   "cell_type": "code",
   "execution_count": 148,
   "metadata": {},
   "outputs": [
    {
     "data": {
      "image/png": "[encoded data removed]",
      "text/plain": [
       "<Figure size 432x288 with 1 Axes>"
      ]
     },
     "metadata": {
      "needs_background": "light"
     },
     "output_type": "display_data"
    }
   ],
   "source": [
    "importances = tree_reg.feature_importances_\n",
    "indices = np.argsort(importances)\n",
    "features = np.array(numerical_cols)\n",
    "plt.title('Feature Importances of Decision Tree Classifier')\n",
    "count = 5 # top # importance\n",
    "plt.barh(range(count), importances[indices][len(indices)-count:], color='g', align='center')\n",
    "plt.yticks(range(count), [features[i] for i in indices[len(indices)-count:]])\n",
    "plt.xlabel('Relative Importance')\n",
    "plt.show()"
   ]
  },
  {
   "cell_type": "code",
   "execution_count": 157,
   "metadata": {},
   "outputs": [],
   "source": [
    "features = np.array(numerical_cols)"
   ]
  },
  {
   "cell_type": "code",
   "execution_count": 158,
   "metadata": {},
   "outputs": [
    {
     "data": {
      "text/plain": [
       "array(['Total.Units', 'Year.Built', 'Gross.SqFt',\n",
       "       'Estimated.Gross.Income', 'Gross.Income.per.SqFt',\n",
       "       'Estimated.Expense', 'Expense.per.SqFt', 'Net.Operating.Income',\n",
       "       'Full.Market.Value'], dtype=object)"
      ]
     },
     "execution_count": 158,
     "metadata": {},
     "output_type": "execute_result"
    }
   ],
   "source": [
    "features"
   ]
  },
  {
   "cell_type": "code",
   "execution_count": null,
   "metadata": {},
   "outputs": [],
   "source": []
  }
 ],
 "metadata": {
  "kernelspec": {
   "display_name": "base",
   "language": "python",
   "name": "python3"
  },
  "language_info": {
   "codemirror_mode": {
    "name": "ipython",
    "version": 3
   },
   "file_extension": ".py",
   "mimetype": "text/x-python",
   "name": "python",
   "nbconvert_exporter": "python",
   "pygments_lexer": "ipython3",
   "version": "3.9.12"
  },
  "orig_nbformat": 4
 },
 "nbformat": 4,
 "nbformat_minor": 2
}
